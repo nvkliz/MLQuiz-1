{
 "cells": [
  {
   "cell_type": "markdown",
   "metadata": {},
   "source": [
    "<div class=\"image\">\n",
    "\n",
    "  <img style=\"float: right;\" src=\"https://dx5i3n065oxey.cloudfront.net/platform/4186/assets/logo.png?v=2e76f927-9482-4bfb-9092-d9a0b595cd2c\" width=\"45%\" align=\"right\">\n",
    "      <h4>\n",
    "          <p style=\"font-size:20pt\">Programming for Business Analytics</p>\n",
    "          <p style=\"font-size:15pt\">Quiz 1</p>\n",
    "      </h4>\n",
    "</div>\n",
    "\n",
    "- Make sure you have executed the code in the cell below.\n",
    "- Make sure you read the questions carefully and follow the instructions.\n",
    "- Make sure you put the answers in the Answer cells.\n",
    "- Please do not put your answers in comments (after #).\n",
    "- Please do not add any new cells between the Question and Answer cells.\n",
    "- Please do not change the names of the variables in Answer cells.\n",
    "- Please do not assign the expected result directly to the variable."
   ]
  },
  {
   "cell_type": "code",
   "execution_count": null,
   "metadata": {},
   "outputs": [],
   "source": [
    "#Please make sure your Jupyter Notebook environment is running a Python 3 kernel \n",
    "import IPython\n",
    "assert IPython.version_info[0] >= 3, \"Your version of IPython is too old, please update it.\"\n",
    "%autosave 120"
   ]
  },
  {
   "cell_type": "markdown",
   "metadata": {
    "id": "fe160462bdc471e2d88e873e1307a67353beb76c8ead9a7f7f107891166ff96a"
   },
   "source": [
    "<div class=\"alert alert-warning\"> \n",
    "\n",
    "<b>QUESTION 1:</b> \n",
    "    \n",
    "<p>Which of the following is <b>NOT</b> a data type in Python?</p>\n",
    "\n",
    "<p> a) integer</p>\n",
    "\n",
    "<p> b) string</p>\n",
    "\n",
    "<p> c) float</p>\n",
    "\n",
    "<p> d) character</p>\n",
    "\n",
    "    \n",
    "</div>"
   ]
  },
  {
   "cell_type": "code",
   "execution_count": null,
   "metadata": {},
   "outputs": [],
   "source": [
    "###ANSWER(1). Please assign the letter representing the correct answer to the variable \n",
    "### (write it down between the \"\")\n",
    "\n",
    "answer_1 = \"\" # YOUR CODE SHOULD BE BETWEEN \"\"\n",
    "### BEGIN SOLUTION\n",
    "answer_1 = \"d\"\n",
    "### END SOLUTION"
   ]
  },
  {
   "cell_type": "markdown",
   "metadata": {
    "id": "cfc06243f347a8679082feb791b3a56d02c08e0f729e2dd5f2b782e4f6ef3825"
   },
   "source": [
    "<div class=\"alert alert-warning\"> \n",
    "\n",
    "<b>QUESTION 2:</b> \n",
    "<p>Complete the code below so that the output is <code>77</code>.</p>\n",
    "\n",
    "```python\n",
    "result = ___\"34\" + ___\"43\" \n",
    "print(result)\n",
    "```\n",
    "\n",
    "</div>"
   ]
  },
  {
   "cell_type": "code",
   "execution_count": null,
   "metadata": {},
   "outputs": [],
   "source": [
    "###ANSWER(2) \n",
    "result = \"34\" + \"43\" # Complete the code here \n",
    "print(result)\n",
    "### BEGIN SOLUTION\n",
    "result = int(\"34\") + int(\"43\")\n",
    "### END SOLUTION"
   ]
  },
  {
   "cell_type": "markdown",
   "metadata": {
    "id": "b170c47349e5e080a97145b1767a4f6d4ebd40e55d24d9829790f23984da2ce5"
   },
   "source": [
    "<div class=\"alert alert-warning\"> \n",
    "<b>QUESTION 3:</b> \n",
    "<p>Which line of the code will not produce an error?</p>\n",
    "\n",
    "<p> a) </p> \n",
    "\n",
    "``` python\n",
    "2 + 4      -1\n",
    "```\n",
    "\n",
    "<p> b) </p>\n",
    "\n",
    "``` python\n",
    "\"two\" + 2\n",
    "```\n",
    "\n",
    "<p> c) </p>\n",
    "\n",
    "``` python\n",
    "11 / (-8 + 8)\n",
    "```\n",
    "\n",
    "<p> d) </p>\n",
    "    \n",
    "``` python    \n",
    "7 + '0'\n",
    "```\n",
    "</div>"
   ]
  },
  {
   "cell_type": "code",
   "execution_count": 19,
   "metadata": {},
   "outputs": [],
   "source": [
    "###ANSWER(3). Please assign the letter representing the correct answer to the variable \n",
    "### (write it down between the \"\")\n",
    "\n",
    "answer_3 = \"\"  # YOUR ANSWER SHOULD BE BETWEEN \"\"\n",
    "### BEGIN SOLUTION\n",
    "answer_3 = \"a\" \n",
    "### END SOLUTION"
   ]
  },
  {
   "cell_type": "markdown",
   "metadata": {
    "id": "8c8ab237a43b1c3513bc9d6af3e644a3c6ae073a3fc7b3c679b709b0dfa25ec1"
   },
   "source": [
    "<div class=\"alert alert-warning\"> \n",
    "\n",
    "<b>QUESTION 4:</b> \n",
    "    \n",
    "<p>Use <b>in-place</b> operators to complete the code in the cell below so that the output is <code>3241.0</code> when executing it.</p>\n",
    "    \n",
    "```python\n",
    "x = '32'\n",
    "y = float(x*2)\n",
    "y _____\n",
    "print(y)\n",
    "```\n",
    "\n",
    "</div>"
   ]
  },
  {
   "cell_type": "code",
   "execution_count": null,
   "metadata": {},
   "outputs": [],
   "source": [
    "###ANSWER(4)\n",
    "\n",
    "### Please complete the code below\n",
    "x = '32'\n",
    "y = float(x*2)\n",
    "y\n",
    "print(y)\n",
    "### BEGIN SOLUTION\n",
    "x = '32'\n",
    "y = float(x*2)\n",
    "y += 9\n",
    "print(y)\n",
    "### END SOLUTION"
   ]
  },
  {
   "cell_type": "markdown",
   "metadata": {
    "id": "071f4f7f2a6372d65164f7c9eea2ee7e8133d734732327e6ef8dfca1271ca4dd"
   },
   "source": [
    "<div class=\"alert alert-warning\"> \n",
    "<b>QUESTION 5:</b> \n",
    "\n",
    "<p>Two strings have been defined.</p>\n",
    "\n",
    "```python\n",
    "str_1 = \"abc\"\n",
    "str_2 = \"def \"\n",
    "```\n",
    "\n",
    "<p>Concatenate the strings with a blank space in the middle. Repeat the concatenated string for 11 times and assign the result to the variable <code>str_repeated</code>. Print <code>str_repeated</code>, the expected output is shown below.</p>\n",
    "\n",
    "```\n",
    "abc def abc def abc def abc def abc def abc def abc def abc def abc def abc def abc def \n",
    "```\n",
    "</div>"
   ]
  },
  {
   "cell_type": "code",
   "execution_count": 6,
   "metadata": {},
   "outputs": [],
   "source": [
    "###ANSWER(5).\n",
    "str_1 = \"abc\"\n",
    "str_2 = \"def \"\n",
    "str_repeated =   # Write your code here\n",
    "### BEGIN SOLUTION\n",
    "str_repeated = (str_1 + \" \" + str_2)*11\n",
    "### END SOLUTION"
   ]
  },
  {
   "cell_type": "markdown",
   "metadata": {
    "id": "c80946f71a601dfa3144f09708f992156f01cec037457fd3ee1a32efea42a199"
   },
   "source": [
    "<div class=\"alert alert-warning\"> \n",
    "<b>QUESTION 6:</b>\n",
    "\n",
    "<p>What are the <b>last four digits</b> of $ 789^{978} * 1234^{5678} $? Assign the result to the variable <code>answer_6</code>. Print <code>answer_6</code>, the expected output is <code>1376</code>.</p>\n",
    "    \n",
    "<p>Make sure you give details of the operation.</p>\n",
    "\n",
    "</div>"
   ]
  },
  {
   "cell_type": "code",
   "execution_count": 29,
   "metadata": {},
   "outputs": [],
   "source": [
    "###ANSWER(6).\n",
    "answer_6 =  # Write your code here\n",
    "### BEGIN SOLUTION\n",
    "answer_6 = ((789**978)*(1234**5678))%10000\n",
    "### END SOLUTION"
   ]
  },
  {
   "cell_type": "markdown",
   "metadata": {
    "id": "bd2c28627c5b1d55b583a859c7db357ea8fafeeaec7a9a64106803f69f7f1a3b"
   },
   "source": [
    "<div class=\"alert alert-warning\"> \n",
    "\n",
    "<b>QUESTION 7:</b>\n",
    "    \n",
    "<p>Write code to calculate the result of the expression below and get the integer part. Assign it to the variable <code>answer_7</code>.</p>\n",
    "\n",
    "$\\ \\sqrt[8]{(12^7+\\sqrt[3]{100})}$\n",
    "\n",
    "\n",
    "</div>"
   ]
  },
  {
   "cell_type": "code",
   "execution_count": null,
   "metadata": {},
   "outputs": [],
   "source": [
    "###ANSWER(7).\n",
    "answer_7 =    # Write the code here\n",
    "### BEGIN SOLUTION\n",
    "answer_7 = int((12**7+100**(1/3))**(1/8)) \n",
    "### END SOLUTION"
   ]
  },
  {
   "cell_type": "markdown",
   "metadata": {
    "id": "cb2efad5d43a68b121233630d3ae7bb2252e97e8183fcd666a0e799a25d0a68b"
   },
   "source": [
    "<div class=\"alert alert-warning\"> \n",
    "<b>QUESTION 8:</b>\n",
    "<p>Complete the code in the answer block so that it prints the following string. Make sure the output is <b>identical</b>.</p>\n",
    "\n",
    "```\n",
    "Mike's manager: \"The document is in the folder D:\\\\Desktop\\UCL\\SoM\"\n",
    "```\n",
    "\n",
    "</div>\n"
   ]
  },
  {
   "cell_type": "code",
   "execution_count": 34,
   "metadata": {},
   "outputs": [],
   "source": [
    "###ANSWER(8). Please assign the letter representing the correct answer to the variable \n",
    "### (write it down between the \"\")\n",
    "\n",
    "answer_8 = \"\"  # complete the code here\n",
    "print(answer_8)\n",
    "### BEGIN SOLUTION\n",
    "answer_8 = \"Mike\\'s manager: 'The document is in the folder D:\\\\\\Desktop\\\\UCL\\\\SoM'\"\n",
    "print(answer_8)\n",
    "### END SOLUTION"
   ]
  },
  {
   "cell_type": "markdown",
   "metadata": {
    "id": "343029228910512426c72312cedc45a824dc802f5161b28cc942c29b8f31da91"
   },
   "source": [
    "<div class=\"alert alert-warning\"> \n",
    "\n",
    "<b>QUESTION 9:</b> \n",
    "    \n",
    "<p>Two variables have been defined. </p>\n",
    "    \n",
    "```python\n",
    "x = '2'\n",
    "y = '7'\n",
    "```\n",
    "<p>Use <b>ONLY</b> the variables, numerical operators, and type conversions to write code to create a new variable <code>z</code>, so that when printing <code>z</code> the output is<code>99</code>.</p>\n",
    "</div>"
   ]
  },
  {
   "cell_type": "code",
   "execution_count": 149,
   "metadata": {},
   "outputs": [],
   "source": [
    "###ANSWER(9).\n",
    "x='2'\n",
    "y='7'\n",
    "z =     # Write the code here\n",
    "print(z)\n",
    "### BEGIN SOLUTION\n",
    "x='2'\n",
    "y='7'\n",
    "z = 2*(str(int(x)+int(y)))\n",
    "print(z)\n",
    "### END SOLUTION"
   ]
  },
  {
   "cell_type": "markdown",
   "metadata": {
    "id": "d15c2e19965945cdf6a47f5d16f1d4da26679767aa75f7833b8cdf5f2d4c2689"
   },
   "source": [
    "<div class=\"alert alert-warning\"> \n",
    "\n",
    "<b>QUESTION 10:</b> \n",
    "    \n",
    "<p>Use the <code><b>input</b></code> function to ask for two integers and calculate the remainder when the second integer is divided by the first one. Assign the result to the variable <code>result</code>.</p>\n",
    "    \n",
    "<p>If the first integer is <code>4</code> and the second integer is <code>6</code>, the expected output is <code>2</code>.</p>\n",
    "<p>If the first integer is <code>12</code> and the second integer is <code>90</code>, the expected output is <code>6</code>.</p>\n",
    "</div>"
   ]
  },
  {
   "cell_type": "code",
   "execution_count": null,
   "metadata": {},
   "outputs": [],
   "source": [
    "###ANSWER(10)\n",
    "# Write your code here.\n",
    "\n",
    "result = \n",
    "print(result)\n",
    "### BEGIN SOLUTION\n",
    "num_1 = int(input(\"Enter an integer:\"))\n",
    "num_2 = int(input(\"Enter an integer:\"))\n",
    "result = num_2%num_1\n",
    "print(result)\n",
    "### END SOLUTION"
   ]
  }
 ],
 "metadata": {
  "kernelspec": {
   "display_name": "Python 3 (ipykernel)",
   "language": "python",
   "name": "python3"
  },
  "language_info": {
   "codemirror_mode": {
    "name": "ipython",
    "version": 3
   },
   "file_extension": ".py",
   "mimetype": "text/x-python",
   "name": "python",
   "nbconvert_exporter": "python",
   "pygments_lexer": "ipython3",
   "version": "3.9.7"
  }
 },
 "nbformat": 4,
 "nbformat_minor": 4
}
